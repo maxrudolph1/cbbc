{
 "cells": [
  {
   "cell_type": "code",
   "execution_count": 15,
   "id": "dfd8ef6e",
   "metadata": {},
   "outputs": [
    {
     "name": "stdout",
     "output_type": "stream",
     "text": [
      "[('max', 'persimmon000'), ('kason', 'plantain000'), ('celeste', 'pandan000'), ('andrew', 'black fermented soy beans (dou chi)000'), ('stephanie', 'cool ranch doritos000'), ('raines', 'coffee000'), ('shankara', 'tofu000'), ('maxine', 'lavender000'), ('brett', 'cabbage000'), ('noah', 'brussel sprouts000'), ('siddhant', 'semolina000'), ('pierriricardo', 'jalapeno000')]\n",
      "[('kason', '0242c1c658bf25117642b99ee14cc97347126397fad58896cdc89c0f472eb9a9'), ('pierriricardo', '1921ab2fd42697e72cb165f7ae04c07a1feff04efe02fb679ac343f3ca84440e'), ('siddhant', '3477e5f0bebcbadab458297d38ee342a219d431f2e6848886658f44c8487bf28'), ('brett', '4cefa6b13a8f592f55bfd46b3719f879859c3eb348e20fe34ab86bcb5cb2ca27'), ('shankara', '4ddc3c135b605e657a90866ff8c17ec5930d70896321bbce8c73d47003fbee6c'), ('maxine', '5487d9e0d16f14a978c829697818b14aacc911ed4ee81bcc32b4c5a0bebcd578'), ('celeste', '5b0e1ceb3173b8ff0de2a262df2abaa0d403bfaea700f399f82a4c9f7226398b'), ('raines', '82bc88d2b4df3ed6faa28827674d78f5e8c1a4209d2467348f75f5b63db268f6'), ('max', '9baf3a40312f39849f46dad1040f2f039f1cffa1238c41e9db675315cfad39b6'), ('stephanie', 'a1df6dffb5e4869e2f750c4121219699b9f6d748d16b7118494d1f7dcf1585e5'), ('noah', 'cf3a3bbe331c3950d16a8e9917c5bb8340e7c0ef917da25d4a96f92d074bce05'), ('andrew', 'd979885447a413abb6d606a5d0f45c3b7809e6fde2c83f0df3426f1fc9bfed97')]\n"
     ]
    }
   ],
   "source": [
    "import hashlib\n",
    "import logging\n",
    "import os\n",
    "\n",
    "def hash_string(s):\n",
    "    \"\"\"Hash a string using SHA-256 and return the hex digest.\"\"\"\n",
    "    return hashlib.sha256(s.encode('utf-8')).hexdigest()\n",
    "\n",
    "def sort_by_hash(strings):\n",
    "    \"\"\"Sort a list of strings based on their SHA-256 hash values.\"\"\"\n",
    "    hashed_names = [(s[0], hash_string(s[0])) for s in strings]\n",
    "    hashed_ingredients = [(s[1], hash_string(s[1])) for s in strings]\n",
    "    sorted_names = sorted(hashed_names, key=lambda x: x[1])\n",
    "    sorted_ingredients = sorted(hashed_ingredients, key=lambda x: x[1])\n",
    "    return sorted_names, sorted_ingredients\n",
    "\n",
    "if __name__ == \"__main__\":\n",
    "    # Always overwrite README.md\n",
    "    with open('README.md', 'w') as f:\n",
    "        f.write(\"# Cryptographic Ingredient Pairing\\n\\n\")\n",
    "        f.write(\"This script creates random pairings between names and ingredients using cryptographic hashing.\\n\\n\")\n",
    "        f.write(\"## How it works:\\n\\n\")\n",
    "        f.write(\"1. Each name and ingredient is hashed using SHA-256\\n\")\n",
    "        f.write(\"2. The hashed values are sorted independently\\n\")\n",
    "        f.write(\"3. This creates a deterministic but seemingly random pairing\\n\")\n",
    "        f.write(\"4. The original proposed ingredient is shown for reference\\n\\n\")\n",
    "        f.write(\"## Results:\\n\\n\")\n",
    "        f.write(\"| Name | Proposed Ingredient | Name Hash | Assigned Ingredient | Ingredient Hash |\\n\")\n",
    "        f.write(\"|------|---------------------|-----------|------------|----------------|\\n\")\n",
    "\n",
    "    names = [\n",
    "        \"Max\",\n",
    "        \"kason\",\n",
    "        \"Celeste\",\n",
    "        \"Andrew\",\n",
    "        \"Stephanie\",\n",
    "        \"Raines\",\n",
    "        \"Shankara\",\n",
    "        \"Maxine\",\n",
    "        \"Brett\",\n",
    "        \"Noah\",\n",
    "        \"Siddhant\",\n",
    "        \"Pierriricardo\",\n",
    "    ]\n",
    "    ingredients = [\n",
    "        \"Persimmon\",\n",
    "        \"plantain\",\n",
    "        \"Pandan\",\n",
    "        \"Black Fermented Soy Beans (dou chi)\",\n",
    "        \"Cool Ranch Doritos\",\n",
    "        \"Coffee\",\n",
    "        \"Tofu\",\n",
    "        \"lavender\",\n",
    "        \"Cabbage\",\n",
    "        \"Brussel Sprouts\",\n",
    "        \"semolina\",\n",
    "        \"jalapeno\",\n",
    "    ]\n",
    "    \n",
    "    salt = \"000\" # this is to prevent clashes ;) \n",
    "\n",
    "    pairs = [(name.lower(), ingred.lower() + salt) for name, ingred in zip(names, ingredients)]\n",
    "    sorted_names, sorted_ingredients = sort_by_hash(pairs)\n",
    "\n",
    "    print(pairs)\n",
    "    print(sorted_names)\n",
    "\n",
    "    # Append results to README.md\n",
    "    with open('README.md', 'a') as f:\n",
    "        for n, i in zip(sorted_names, sorted_ingredients):\n",
    "            original_ingredient = next(ingred for name, ingred in pairs if name.lower() == n[0].lower())\n",
    "            # Get truncated hashes (first 10 characters)\n",
    "            name_hash = n[1][:10]\n",
    "            ingredient_hash = i[1][:10]\n",
    "            output = f\"| {n[0]:<10} | {original_ingredient[:-len(salt)]:<30} | {name_hash} | {i[0][:-len(salt)]:<30} | {ingredient_hash} |\\n\"\n",
    "            f.write(output)\n"
   ]
  },
  {
   "cell_type": "code",
   "execution_count": null,
   "id": "8a5aa3b3",
   "metadata": {},
   "outputs": [],
   "source": []
  }
 ],
 "metadata": {
  "kernelspec": {
   "display_name": "base",
   "language": "python",
   "name": "python3"
  },
  "language_info": {
   "codemirror_mode": {
    "name": "ipython",
    "version": 3
   },
   "file_extension": ".py",
   "mimetype": "text/x-python",
   "name": "python",
   "nbconvert_exporter": "python",
   "pygments_lexer": "ipython3",
   "version": "3.9.7"
  }
 },
 "nbformat": 4,
 "nbformat_minor": 5
}
