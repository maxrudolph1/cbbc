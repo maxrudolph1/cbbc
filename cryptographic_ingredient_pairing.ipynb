{
 "cells": [
  {
   "cell_type": "code",
   "execution_count": 14,
   "id": "dfd8ef6e",
   "metadata": {},
   "outputs": [
    {
     "name": "stdout",
     "output_type": "stream",
     "text": [
      "Sorted strings by hash:\n",
      "kason: 0242c1c658 <----> pandan: 035f9b78b5\n",
      "brett: 4cefa6b13a <----> cabbage: 0a7a27bedd\n",
      "shankara: 4ddc3c135b <----> persimmon: 13cfa04091\n",
      "maxine: 5487d9e0d1 <----> coffee: 37290d74ac\n",
      "celeste: 5b0e1ceb31 <----> apple: 3a7bd3e236\n",
      "raines: 82bc88d2b4 <----> cool ranch doritos: aa7110a090\n",
      "max: 9baf3a4031 <----> tofu: cc52e9ceb3\n",
      "stephanie: a1df6dffb5 <----> black fermented soy beans (dou chi): f6b6df29da\n",
      "andrew: d979885447 <----> lavender: fef8cec0ff\n"
     ]
    }
   ],
   "source": [
    "import hashlib\n",
    "\n",
    "def hash_string(s):\n",
    "    \"\"\"Hash a string using SHA-256 and return the hex digest.\"\"\"\n",
    "    return hashlib.sha256(s.encode('utf-8')).hexdigest()\n",
    "\n",
    "def sort_by_hash(strings):\n",
    "    \"\"\"Sort a list of strings based on their SHA-256 hash values.\"\"\"\n",
    "    hashed_names = [(s[0], hash_string(s[0])) for s in strings]\n",
    "    hashed_ingredients = [(s[1], hash_string(s[1])) for s in strings]\n",
    "    sorted_names = sorted(hashed_names, key=lambda x: x[1])\n",
    "    sorted_ingredients = sorted(hashed_ingredients, key=lambda x: x[1])\n",
    "    return sorted_names,sorted_ingredients\n",
    "\n",
    "if __name__ == \"__main__\":\n",
    "    names = [\n",
    "        \"Max\",\n",
    "        \"kason\",\n",
    "        \"Celeste\",\n",
    "        \"Andrew\",\n",
    "        \"Stephanie\",\n",
    "        \"Raines\",\n",
    "        \"Shankara\",\n",
    "        \"Maxine\",\n",
    "        \"Brett\"\n",
    "    ]\n",
    "    ingredients = [\n",
    "        \"Persimmon\",\n",
    "        \"apple\",\n",
    "        \"Pandan\",\n",
    "        \"Black Fermented Soy Beans (dou chi)\",\n",
    "        \"Cool Ranch Doritos\",\n",
    "        \"Coffee\",\n",
    "        \"Tofu\",\n",
    "        \"lavender\",\n",
    "        \"Cabbage\",\n",
    "        \"Brussel Sprouts\",\n",
    "    ]\n",
    "    \n",
    "    pairs = [(name.lower(), ingred.lower()) for name, ingred in zip(names, ingredients)]\n",
    "    sorted_names, sorted_ingredients = sort_by_hash(pairs)\n",
    "\n",
    "    print(\"Sorted strings by hash:\")\n",
    "    for n, i in zip(sorted_names, sorted_ingredients):\n",
    "        print(f\"{n[0]}: {n[1][:10]} <----> {i[0]}: {i[1][:10]}\")\n"
   ]
  },
  {
   "cell_type": "code",
   "execution_count": null,
   "id": "8a5aa3b3",
   "metadata": {},
   "outputs": [],
   "source": []
  }
 ],
 "metadata": {
  "kernelspec": {
   "display_name": "Python 3",
   "language": "python",
   "name": "python3"
  },
  "language_info": {
   "codemirror_mode": {
    "name": "ipython",
    "version": 3
   },
   "file_extension": ".py",
   "mimetype": "text/x-python",
   "name": "python",
   "nbconvert_exporter": "python",
   "pygments_lexer": "ipython3",
   "version": "3.9.7"
  }
 },
 "nbformat": 4,
 "nbformat_minor": 5
}
